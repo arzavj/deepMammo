{
 "cells": [
  {
   "cell_type": "code",
   "execution_count": 104,
   "metadata": {
    "collapsed": true
   },
   "outputs": [],
   "source": [
    "from wand.image import Image\n",
    "from wand.color import Color\n",
    "from wand.display import display\n",
    "import numpy as np\n",
    "path = 'image_da.tif'"
   ]
  },
  {
   "cell_type": "code",
   "execution_count": 167,
   "metadata": {
    "collapsed": false
   },
   "outputs": [],
   "source": [
    "def resize_shortest(img):\n",
    "    x,y = float(img.size[0]), float(img.size[1])\n",
    "    if x < y:\n",
    "        xx = 224.0\n",
    "        yy = y/x*xx\n",
    "    else:\n",
    "        yy = 224.0\n",
    "        xx = (x/y)*yy\n",
    "    xx,yy = int(xx),int(yy)\n",
    "    img.resize(xx,yy)"
   ]
  },
  {
   "cell_type": "code",
   "execution_count": 168,
   "metadata": {
    "collapsed": false
   },
   "outputs": [],
   "source": [
    "def random_crop(img):\n",
    "    x,y = float(img.size[0]), float(img.size[1])\n",
    "    delta_x = x-224\n",
    "    delta_y = y-224\n",
    "    xx = int(np.random.uniform(0, delta_x))\n",
    "    yy = int(np.random.uniform(0, delta_y))\n",
    "    img.crop(xx, yy, xx+224, yy+224)\n"
   ]
  },
  {
   "cell_type": "code",
   "execution_count": 173,
   "metadata": {
    "collapsed": false
   },
   "outputs": [],
   "source": [
    "def rotate(img, max_deg=360):\n",
    "    deg = int(np.random.uniform(0, max_deg))\n",
    "    img.rotate(deg, background=Color('rgb(132,132,132)'))\n",
    "    l,L = img.size\n",
    "    img.crop(width=int(0.6*l), height=int(0.6*L), gravity='center')\n"
   ]
  },
  {
   "cell_type": "code",
   "execution_count": 174,
   "metadata": {
    "collapsed": true
   },
   "outputs": [],
   "source": []
  },
  {
   "cell_type": "code",
   "execution_count": 163,
   "metadata": {
    "collapsed": false
   },
   "outputs": [
    {
     "name": "stdout",
     "output_type": "stream",
     "text": [
      "image_da tif\n"
     ]
    }
   ],
   "source": [
    "[name, ext] = path.split('.')\n",
    "print name, ext"
   ]
  },
  {
   "cell_type": "code",
   "execution_count": 188,
   "metadata": {
    "collapsed": false
   },
   "outputs": [],
   "source": [
    "from os import listdir\n",
    "from os.path import isfile, join\n",
    "import os\n",
    "\n",
    "d = os.getcwd()\n",
    "path = listdir('/mnt/mass_2x_padding_dataset_train')[0]"
   ]
  },
  {
   "cell_type": "code",
   "execution_count": 195,
   "metadata": {
    "collapsed": false
   },
   "outputs": [],
   "source": [
    "source_to_augmented = {'/mnt/mass_2x_padding_dataset_train': '/mnt/2x_augmented_train',\n",
    "                       '/mnt/mass_2x_padding_dataset_test': '/mnt/2x_augmented_test',\n",
    "                       '/mnt/mass_2x_padding_dataset_val': '/mnt/2x_augmented_val'}"
   ]
  },
  {
   "cell_type": "code",
   "execution_count": 198,
   "metadata": {
    "collapsed": false
   },
   "outputs": [
    {
     "ename": "BlobError",
     "evalue": "unable to open image `/mnt/2x_augmented_train/P_00517_LEFT_MLO_1_0_0.tif': Permission denied @ error/blob.c/OpenBlob/2638",
     "output_type": "error",
     "traceback": [
      "\u001b[1;31m---------------------------------------------------------------------------\u001b[0m",
      "\u001b[1;31mBlobError\u001b[0m                                 Traceback (most recent call last)",
      "\u001b[1;32m<ipython-input-198-f09c073997d5>\u001b[0m in \u001b[0;36m<module>\u001b[1;34m()\u001b[0m\n\u001b[0;32m     14\u001b[0m                 \u001b[0mn\u001b[0m \u001b[1;33m=\u001b[0m \u001b[0mz\u001b[0m\u001b[1;33m.\u001b[0m\u001b[0mclone\u001b[0m\u001b[1;33m(\u001b[0m\u001b[1;33m)\u001b[0m\u001b[1;33m\u001b[0m\u001b[0m\n\u001b[0;32m     15\u001b[0m                 \u001b[0mrandom_crop\u001b[0m\u001b[1;33m(\u001b[0m\u001b[0mn\u001b[0m\u001b[1;33m)\u001b[0m\u001b[1;33m\u001b[0m\u001b[0m\n\u001b[1;32m---> 16\u001b[1;33m                 \u001b[0mn\u001b[0m\u001b[1;33m.\u001b[0m\u001b[0msave\u001b[0m\u001b[1;33m(\u001b[0m\u001b[0mfilename\u001b[0m\u001b[1;33m=\u001b[0m\u001b[0mnew_path\u001b[0m\u001b[1;33m)\u001b[0m\u001b[1;33m\u001b[0m\u001b[0m\n\u001b[0m\u001b[0;32m     17\u001b[0m         \u001b[1;32mprint\u001b[0m \u001b[1;34m'Done %i/%i'\u001b[0m \u001b[1;33m%\u001b[0m \u001b[1;33m(\u001b[0m\u001b[0mi\u001b[0m\u001b[1;33m,\u001b[0m\u001b[0mN\u001b[0m\u001b[1;33m)\u001b[0m\u001b[1;33m\u001b[0m\u001b[0m\n",
      "\u001b[1;32m/home/ubuntu/anaconda2/lib/python2.7/site-packages/wand/image.pyc\u001b[0m in \u001b[0;36msave\u001b[1;34m(self, file, filename)\u001b[0m\n\u001b[0;32m   2861\u001b[0m                 \u001b[0mr\u001b[0m \u001b[1;33m=\u001b[0m \u001b[0mlibrary\u001b[0m\u001b[1;33m.\u001b[0m\u001b[0mMagickWriteImage\u001b[0m\u001b[1;33m(\u001b[0m\u001b[0mself\u001b[0m\u001b[1;33m.\u001b[0m\u001b[0mwand\u001b[0m\u001b[1;33m,\u001b[0m \u001b[0mfilename\u001b[0m\u001b[1;33m)\u001b[0m\u001b[1;33m\u001b[0m\u001b[0m\n\u001b[0;32m   2862\u001b[0m             \u001b[1;32mif\u001b[0m \u001b[1;32mnot\u001b[0m \u001b[0mr\u001b[0m\u001b[1;33m:\u001b[0m\u001b[1;33m\u001b[0m\u001b[0m\n\u001b[1;32m-> 2863\u001b[1;33m                 \u001b[0mself\u001b[0m\u001b[1;33m.\u001b[0m\u001b[0mraise_exception\u001b[0m\u001b[1;33m(\u001b[0m\u001b[1;33m)\u001b[0m\u001b[1;33m\u001b[0m\u001b[0m\n\u001b[0m\u001b[0;32m   2864\u001b[0m \u001b[1;33m\u001b[0m\u001b[0m\n\u001b[0;32m   2865\u001b[0m     \u001b[1;32mdef\u001b[0m \u001b[0mmake_blob\u001b[0m\u001b[1;33m(\u001b[0m\u001b[0mself\u001b[0m\u001b[1;33m,\u001b[0m \u001b[0mformat\u001b[0m\u001b[1;33m=\u001b[0m\u001b[0mNone\u001b[0m\u001b[1;33m)\u001b[0m\u001b[1;33m:\u001b[0m\u001b[1;33m\u001b[0m\u001b[0m\n",
      "\u001b[1;32m/home/ubuntu/anaconda2/lib/python2.7/site-packages/wand/resource.pyc\u001b[0m in \u001b[0;36mraise_exception\u001b[1;34m(self, stacklevel)\u001b[0m\n\u001b[0;32m    220\u001b[0m             \u001b[0mwarnings\u001b[0m\u001b[1;33m.\u001b[0m\u001b[0mwarn\u001b[0m\u001b[1;33m(\u001b[0m\u001b[0me\u001b[0m\u001b[1;33m,\u001b[0m \u001b[0mstacklevel\u001b[0m\u001b[1;33m=\u001b[0m\u001b[0mstacklevel\u001b[0m \u001b[1;33m+\u001b[0m \u001b[1;36m1\u001b[0m\u001b[1;33m)\u001b[0m\u001b[1;33m\u001b[0m\u001b[0m\n\u001b[0;32m    221\u001b[0m         \u001b[1;32melif\u001b[0m \u001b[0misinstance\u001b[0m\u001b[1;33m(\u001b[0m\u001b[0me\u001b[0m\u001b[1;33m,\u001b[0m \u001b[0mException\u001b[0m\u001b[1;33m)\u001b[0m\u001b[1;33m:\u001b[0m\u001b[1;33m\u001b[0m\u001b[0m\n\u001b[1;32m--> 222\u001b[1;33m             \u001b[1;32mraise\u001b[0m \u001b[0me\u001b[0m\u001b[1;33m\u001b[0m\u001b[0m\n\u001b[0m\u001b[0;32m    223\u001b[0m \u001b[1;33m\u001b[0m\u001b[0m\n\u001b[0;32m    224\u001b[0m     \u001b[1;32mdef\u001b[0m \u001b[0m__enter__\u001b[0m\u001b[1;33m(\u001b[0m\u001b[0mself\u001b[0m\u001b[1;33m)\u001b[0m\u001b[1;33m:\u001b[0m\u001b[1;33m\u001b[0m\u001b[0m\n",
      "\u001b[1;31mBlobError\u001b[0m: unable to open image `/mnt/2x_augmented_train/P_00517_LEFT_MLO_1_0_0.tif': Permission denied @ error/blob.c/OpenBlob/2638"
     ]
    }
   ],
   "source": [
    "for directory in source_to_augmented:\n",
    "    files = listdir(directory)\n",
    "    N = len(files)\n",
    "    for i, filepath in enumerate(files):\n",
    "        img = Image(filename=directory+'/'+filepath)\n",
    "        [name, ext] = filepath.split('.')\n",
    "        for t in range(5):\n",
    "            z = img.clone()\n",
    "            if t != 0:\n",
    "                rotate(z)\n",
    "            resize_shortest(z)\n",
    "            for tt in range(5):\n",
    "                new_path = '%s/%s_%i_%i.%s' % (source_to_augmented[directory], name, t, tt, ext)\n",
    "                n = z.clone()\n",
    "                random_crop(n)\n",
    "                n.save(filename=new_path)\n",
    "        print 'Done %i/%i' % (i,N)"
   ]
  },
  {
   "cell_type": "code",
   "execution_count": null,
   "metadata": {
    "collapsed": true
   },
   "outputs": [],
   "source": []
  }
 ],
 "metadata": {
  "kernelspec": {
   "display_name": "Python 2",
   "language": "python",
   "name": "python2"
  },
  "language_info": {
   "codemirror_mode": {
    "name": "ipython",
    "version": 2
   },
   "file_extension": ".py",
   "mimetype": "text/x-python",
   "name": "python",
   "nbconvert_exporter": "python",
   "pygments_lexer": "ipython2",
   "version": "2.7.11"
  }
 },
 "nbformat": 4,
 "nbformat_minor": 0
}
